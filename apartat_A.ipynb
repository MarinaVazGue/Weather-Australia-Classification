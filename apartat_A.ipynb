{
 "cells": [
  {
   "cell_type": "code",
   "execution_count": 1,
   "id": "b244e0d8",
   "metadata": {},
   "outputs": [],
   "source": [
    "import time\n",
    "import warnings\n",
    "import numpy as np\n",
    "import pandas as pd\n",
    "import seaborn as sns\n",
    "import matplotlib.pyplot as plt\n",
    "import sklearn.preprocessing as preprocessing\n",
    "from sklearn import svm, tree, datasets, neighbors, metrics\n",
    "from sklearn.metrics import classification_report\n",
    "from sklearn.datasets import make_classification\n",
    "from sklearn.ensemble import RandomForestClassifier, BaggingClassifier, AdaBoostClassifier\n",
    "from sklearn.neighbors import KNeighborsClassifier\n",
    "from sklearn.linear_model import LogisticRegression\n",
    "from sklearn.decomposition import PCA\n",
    "from sklearn.preprocessing import LabelEncoder\n",
    "from sklearn.model_selection import train_test_split, cross_val_score, KFold, LeaveOneOut, GridSearchCV\n",
    "\n",
    "%matplotlib inline\n",
    "sns.set(style=\"darkgrid\")\n",
    "warnings.filterwarnings(\"ignore\")\n",
    "\n",
    "\n",
    "def standarize(x_train):\n",
    "    mean = x_train.mean(0)\n",
    "    std = x_train.std(0)\n",
    "    return (x_train - mean[None, :]) / std[None, :]\n",
    "\n",
    "\n",
    "def split_df(x, s1=0.6, s2=0.8):\n",
    "    size = x.shape[0]\n",
    "    return x[:int(size * s1)], x[int(size * s1):int(size * s2)], x[int(size * s2):]"
   ]
  },
  {
   "cell_type": "markdown",
   "id": "11d4afab",
   "metadata": {},
   "source": [
    "# IMPLEMENTACIÓ CODI: APARTAT A"
   ]
  },
  {
   "cell_type": "code",
   "execution_count": 2,
   "id": "dbbdeb31",
   "metadata": {},
   "outputs": [
    {
     "data": {
      "text/html": [
       "<div>\n",
       "<style scoped>\n",
       "    .dataframe tbody tr th:only-of-type {\n",
       "        vertical-align: middle;\n",
       "    }\n",
       "\n",
       "    .dataframe tbody tr th {\n",
       "        vertical-align: top;\n",
       "    }\n",
       "\n",
       "    .dataframe thead th {\n",
       "        text-align: right;\n",
       "    }\n",
       "</style>\n",
       "<table border=\"1\" class=\"dataframe\">\n",
       "  <thead>\n",
       "    <tr style=\"text-align: right;\">\n",
       "      <th></th>\n",
       "      <th>MinTemp</th>\n",
       "      <th>MaxTemp</th>\n",
       "      <th>Rainfall</th>\n",
       "      <th>Evaporation</th>\n",
       "      <th>Sunshine</th>\n",
       "      <th>WindGustSpeed</th>\n",
       "      <th>WindSpeed9am</th>\n",
       "      <th>WindSpeed3pm</th>\n",
       "      <th>Humidity9am</th>\n",
       "      <th>Humidity3pm</th>\n",
       "      <th>Pressure9am</th>\n",
       "      <th>Pressure3pm</th>\n",
       "      <th>Cloud9am</th>\n",
       "      <th>Cloud3pm</th>\n",
       "      <th>Temp9am</th>\n",
       "      <th>Temp3pm</th>\n",
       "    </tr>\n",
       "  </thead>\n",
       "  <tbody>\n",
       "    <tr>\n",
       "      <th>count</th>\n",
       "      <td>143975.000000</td>\n",
       "      <td>144199.000000</td>\n",
       "      <td>142199.000000</td>\n",
       "      <td>82670.000000</td>\n",
       "      <td>75625.000000</td>\n",
       "      <td>135197.000000</td>\n",
       "      <td>143693.000000</td>\n",
       "      <td>142398.000000</td>\n",
       "      <td>142806.000000</td>\n",
       "      <td>140953.000000</td>\n",
       "      <td>130395.00000</td>\n",
       "      <td>130432.000000</td>\n",
       "      <td>89572.000000</td>\n",
       "      <td>86102.000000</td>\n",
       "      <td>143693.000000</td>\n",
       "      <td>141851.00000</td>\n",
       "    </tr>\n",
       "    <tr>\n",
       "      <th>mean</th>\n",
       "      <td>12.194034</td>\n",
       "      <td>23.221348</td>\n",
       "      <td>2.360918</td>\n",
       "      <td>5.468232</td>\n",
       "      <td>7.611178</td>\n",
       "      <td>40.035230</td>\n",
       "      <td>14.043426</td>\n",
       "      <td>18.662657</td>\n",
       "      <td>68.880831</td>\n",
       "      <td>51.539116</td>\n",
       "      <td>1017.64994</td>\n",
       "      <td>1015.255889</td>\n",
       "      <td>4.447461</td>\n",
       "      <td>4.509930</td>\n",
       "      <td>16.990631</td>\n",
       "      <td>21.68339</td>\n",
       "    </tr>\n",
       "    <tr>\n",
       "      <th>std</th>\n",
       "      <td>6.398495</td>\n",
       "      <td>7.119049</td>\n",
       "      <td>8.478060</td>\n",
       "      <td>4.193704</td>\n",
       "      <td>3.785483</td>\n",
       "      <td>13.607062</td>\n",
       "      <td>8.915375</td>\n",
       "      <td>8.809800</td>\n",
       "      <td>19.029164</td>\n",
       "      <td>20.795902</td>\n",
       "      <td>7.10653</td>\n",
       "      <td>7.037414</td>\n",
       "      <td>2.887159</td>\n",
       "      <td>2.720357</td>\n",
       "      <td>6.488753</td>\n",
       "      <td>6.93665</td>\n",
       "    </tr>\n",
       "    <tr>\n",
       "      <th>min</th>\n",
       "      <td>-8.500000</td>\n",
       "      <td>-4.800000</td>\n",
       "      <td>0.000000</td>\n",
       "      <td>0.000000</td>\n",
       "      <td>0.000000</td>\n",
       "      <td>6.000000</td>\n",
       "      <td>0.000000</td>\n",
       "      <td>0.000000</td>\n",
       "      <td>0.000000</td>\n",
       "      <td>0.000000</td>\n",
       "      <td>980.50000</td>\n",
       "      <td>977.100000</td>\n",
       "      <td>0.000000</td>\n",
       "      <td>0.000000</td>\n",
       "      <td>-7.200000</td>\n",
       "      <td>-5.40000</td>\n",
       "    </tr>\n",
       "    <tr>\n",
       "      <th>25%</th>\n",
       "      <td>7.600000</td>\n",
       "      <td>17.900000</td>\n",
       "      <td>0.000000</td>\n",
       "      <td>2.600000</td>\n",
       "      <td>4.800000</td>\n",
       "      <td>31.000000</td>\n",
       "      <td>7.000000</td>\n",
       "      <td>13.000000</td>\n",
       "      <td>57.000000</td>\n",
       "      <td>37.000000</td>\n",
       "      <td>1012.90000</td>\n",
       "      <td>1010.400000</td>\n",
       "      <td>1.000000</td>\n",
       "      <td>2.000000</td>\n",
       "      <td>12.300000</td>\n",
       "      <td>16.60000</td>\n",
       "    </tr>\n",
       "    <tr>\n",
       "      <th>50%</th>\n",
       "      <td>12.000000</td>\n",
       "      <td>22.600000</td>\n",
       "      <td>0.000000</td>\n",
       "      <td>4.800000</td>\n",
       "      <td>8.400000</td>\n",
       "      <td>39.000000</td>\n",
       "      <td>13.000000</td>\n",
       "      <td>19.000000</td>\n",
       "      <td>70.000000</td>\n",
       "      <td>52.000000</td>\n",
       "      <td>1017.60000</td>\n",
       "      <td>1015.200000</td>\n",
       "      <td>5.000000</td>\n",
       "      <td>5.000000</td>\n",
       "      <td>16.700000</td>\n",
       "      <td>21.10000</td>\n",
       "    </tr>\n",
       "    <tr>\n",
       "      <th>75%</th>\n",
       "      <td>16.900000</td>\n",
       "      <td>28.200000</td>\n",
       "      <td>0.800000</td>\n",
       "      <td>7.400000</td>\n",
       "      <td>10.600000</td>\n",
       "      <td>48.000000</td>\n",
       "      <td>19.000000</td>\n",
       "      <td>24.000000</td>\n",
       "      <td>83.000000</td>\n",
       "      <td>66.000000</td>\n",
       "      <td>1022.40000</td>\n",
       "      <td>1020.000000</td>\n",
       "      <td>7.000000</td>\n",
       "      <td>7.000000</td>\n",
       "      <td>21.600000</td>\n",
       "      <td>26.40000</td>\n",
       "    </tr>\n",
       "    <tr>\n",
       "      <th>max</th>\n",
       "      <td>33.900000</td>\n",
       "      <td>48.100000</td>\n",
       "      <td>371.000000</td>\n",
       "      <td>145.000000</td>\n",
       "      <td>14.500000</td>\n",
       "      <td>135.000000</td>\n",
       "      <td>130.000000</td>\n",
       "      <td>87.000000</td>\n",
       "      <td>100.000000</td>\n",
       "      <td>100.000000</td>\n",
       "      <td>1041.00000</td>\n",
       "      <td>1039.600000</td>\n",
       "      <td>9.000000</td>\n",
       "      <td>9.000000</td>\n",
       "      <td>40.200000</td>\n",
       "      <td>46.70000</td>\n",
       "    </tr>\n",
       "  </tbody>\n",
       "</table>\n",
       "</div>"
      ],
      "text/plain": [
       "             MinTemp        MaxTemp       Rainfall   Evaporation  \\\n",
       "count  143975.000000  144199.000000  142199.000000  82670.000000   \n",
       "mean       12.194034      23.221348       2.360918      5.468232   \n",
       "std         6.398495       7.119049       8.478060      4.193704   \n",
       "min        -8.500000      -4.800000       0.000000      0.000000   \n",
       "25%         7.600000      17.900000       0.000000      2.600000   \n",
       "50%        12.000000      22.600000       0.000000      4.800000   \n",
       "75%        16.900000      28.200000       0.800000      7.400000   \n",
       "max        33.900000      48.100000     371.000000    145.000000   \n",
       "\n",
       "           Sunshine  WindGustSpeed   WindSpeed9am   WindSpeed3pm  \\\n",
       "count  75625.000000  135197.000000  143693.000000  142398.000000   \n",
       "mean       7.611178      40.035230      14.043426      18.662657   \n",
       "std        3.785483      13.607062       8.915375       8.809800   \n",
       "min        0.000000       6.000000       0.000000       0.000000   \n",
       "25%        4.800000      31.000000       7.000000      13.000000   \n",
       "50%        8.400000      39.000000      13.000000      19.000000   \n",
       "75%       10.600000      48.000000      19.000000      24.000000   \n",
       "max       14.500000     135.000000     130.000000      87.000000   \n",
       "\n",
       "         Humidity9am    Humidity3pm   Pressure9am    Pressure3pm  \\\n",
       "count  142806.000000  140953.000000  130395.00000  130432.000000   \n",
       "mean       68.880831      51.539116    1017.64994    1015.255889   \n",
       "std        19.029164      20.795902       7.10653       7.037414   \n",
       "min         0.000000       0.000000     980.50000     977.100000   \n",
       "25%        57.000000      37.000000    1012.90000    1010.400000   \n",
       "50%        70.000000      52.000000    1017.60000    1015.200000   \n",
       "75%        83.000000      66.000000    1022.40000    1020.000000   \n",
       "max       100.000000     100.000000    1041.00000    1039.600000   \n",
       "\n",
       "           Cloud9am      Cloud3pm        Temp9am       Temp3pm  \n",
       "count  89572.000000  86102.000000  143693.000000  141851.00000  \n",
       "mean       4.447461      4.509930      16.990631      21.68339  \n",
       "std        2.887159      2.720357       6.488753       6.93665  \n",
       "min        0.000000      0.000000      -7.200000      -5.40000  \n",
       "25%        1.000000      2.000000      12.300000      16.60000  \n",
       "50%        5.000000      5.000000      16.700000      21.10000  \n",
       "75%        7.000000      7.000000      21.600000      26.40000  \n",
       "max        9.000000      9.000000      40.200000      46.70000  "
      ]
     },
     "execution_count": 2,
     "metadata": {},
     "output_type": "execute_result"
    }
   ],
   "source": [
    "w = pd.read_csv(\"weatherAUS.csv\")\n",
    "w.describe()"
   ]
  },
  {
   "cell_type": "markdown",
   "id": "cba4f4f4",
   "metadata": {},
   "source": [
    "### EDA (exploratory data analysis) i Preprocessing (normalitzation, outlier removal, feature selection..)"
   ]
  },
  {
   "cell_type": "code",
   "execution_count": 3,
   "id": "90f6998a",
   "metadata": {},
   "outputs": [],
   "source": [
    "# neteja del dataset\n",
    "\n",
    "w = w[w['RainTomorrow'].notnull() & w['Sunshine'].notnull() & w['Cloud3pm'].notnull() & w['WindGustDir'].notnull() & w['Evaporation'].notnull() & w['WindDir9am'].notnull() & w['RainToday'].notnull()]\n",
    "\n",
    "attributes_to_fill = [\"MinTemp\", \"MaxTemp\", \"Rainfall\", \"Humidity9am\", \"Humidity3pm\", \"Pressure9am\", \"Pressure3pm\", \"Cloud9am\", \"Temp9am\", \"Temp3pm\", \"WindSpeed3pm\"]\n",
    "#\"WindDir3pm\", \"RainToday\"\n",
    "for at in attributes_to_fill:\n",
    "    w[at] = w[at].fillna(w[at].mean())\n",
    "    \n",
    "le2 = LabelEncoder()\n",
    "w[\"RainTomorrow\"] = le2.fit(w[\"RainTomorrow\"]).transform(w[\"RainTomorrow\"]) # 0 no, 1 si\n",
    "w[\"RainToday\"] = le2.fit(w[\"RainToday\"]).transform(w[\"RainToday\"])\n",
    "\n",
    "w = pd.get_dummies(w, columns=[\"WindDir9am\",\"WindGustDir\",\"WindDir3pm\"]) # fem el encoder de les direccions \n",
    "\n",
    "w[\"Location\"].unique()\n",
    "w.drop([\"Location\"], axis=1, inplace=True) \n",
    "\n",
    "w[\"Date\"] = [int(date[5:7]) for date in w[\"Date\"]]\n",
    "w = pd.get_dummies(w, columns=[\"Date\"])\n",
    "\n",
    "# normalització de les dades\n",
    "\n",
    "ws = standarize(w[['MinTemp', 'MaxTemp', 'Rainfall', 'Evaporation',\n",
    "       'Sunshine', 'WindGustSpeed', 'WindSpeed9am', 'WindSpeed3pm',\n",
    "       'Humidity9am', 'Humidity3pm', 'Pressure9am', 'Pressure3pm', 'Cloud9am',\n",
    "       'Cloud3pm', 'Temp9am', 'Temp3pm']])\n",
    "\n",
    "ws = pd.concat([w[['Date_1', 'Date_2', 'Date_3', 'Date_4', 'Date_5', 'Date_6', 'Date_7',\n",
    "       'Date_8', 'Date_9', 'Date_10', 'Date_11', 'Date_12', 'RainToday', 'RainTomorrow',\n",
    "       'WindDir9am_E', 'WindDir9am_ENE', 'WindDir9am_ESE', 'WindDir9am_N',\n",
    "       'WindDir9am_NE', 'WindDir9am_NNE', 'WindDir9am_NNW', 'WindDir9am_NW',\n",
    "       'WindDir9am_S', 'WindDir9am_SE', 'WindDir9am_SSE', 'WindDir9am_SSW',\n",
    "       'WindDir9am_SW', 'WindDir9am_W', 'WindDir9am_WNW', 'WindDir9am_WSW',\n",
    "       'WindGustDir_E', 'WindGustDir_ENE', 'WindGustDir_ESE', 'WindGustDir_N',\n",
    "       'WindGustDir_NE', 'WindGustDir_NNE', 'WindGustDir_NNW',\n",
    "       'WindGustDir_NW', 'WindGustDir_S', 'WindGustDir_SE', 'WindGustDir_SSE',\n",
    "       'WindGustDir_SSW', 'WindGustDir_SW', 'WindGustDir_W', 'WindGustDir_WNW',\n",
    "       'WindGustDir_WSW', 'WindDir3pm_E', 'WindDir3pm_ENE', 'WindDir3pm_ESE',\n",
    "       'WindDir3pm_N', 'WindDir3pm_NE', 'WindDir3pm_NNE', 'WindDir3pm_NNW',\n",
    "       'WindDir3pm_NW', 'WindDir3pm_S', 'WindDir3pm_SE', 'WindDir3pm_SSE',\n",
    "       'WindDir3pm_SSW', 'WindDir3pm_SW', 'WindDir3pm_W', 'WindDir3pm_WNW',\n",
    "       'WindDir3pm_WSW']],ws], axis=1)"
   ]
  },
  {
   "cell_type": "code",
   "execution_count": 4,
   "id": "8e56afb8",
   "metadata": {},
   "outputs": [
    {
     "data": {
      "text/plain": [
       "{'RainToday': 0.30947297462710116,\n",
       " 'Sunshine': -0.45332143987940643,\n",
       " 'Humidity3pm': 0.45555187207982206,\n",
       " 'Cloud9am': 0.32371560290463347,\n",
       " 'Cloud3pm': 0.38885555361470164}"
      ]
     },
     "execution_count": 4,
     "metadata": {},
     "output_type": "execute_result"
    }
   ],
   "source": [
    "# Com que veiem que té 77 atributs més la variable a predir, \n",
    "# mirem quins són els atributs més significants per a poder-lo visualitzar\n",
    "\n",
    "attrs = ['Date_1', 'Date_2', 'Date_3', 'Date_4', 'Date_5', 'Date_6', 'Date_7',\n",
    "       'Date_8', 'Date_9', 'Date_10', 'Date_11', 'Date_12', 'RainToday',\n",
    "       'WindDir9am_E', 'WindDir9am_ENE', 'WindDir9am_ESE',\n",
    "       'WindDir9am_N', 'WindDir9am_NE', 'WindDir9am_NNE', 'WindDir9am_NNW',\n",
    "       'WindDir9am_NW', 'WindDir9am_S', 'WindDir9am_SE', 'WindDir9am_SSE',\n",
    "       'WindDir9am_SSW', 'WindDir9am_SW', 'WindDir9am_W', 'WindDir9am_WNW',\n",
    "       'WindDir9am_WSW', 'WindGustDir_E', 'WindGustDir_ENE', 'WindGustDir_ESE',\n",
    "       'WindGustDir_N', 'WindGustDir_NE', 'WindGustDir_NNE', 'WindGustDir_NNW',\n",
    "       'WindGustDir_NW', 'WindGustDir_S', 'WindGustDir_SE', 'WindGustDir_SSE',\n",
    "       'WindGustDir_SSW', 'WindGustDir_SW', 'WindGustDir_W', 'WindGustDir_WNW',\n",
    "       'WindGustDir_WSW', 'WindDir3pm_E', 'WindDir3pm_ENE', 'WindDir3pm_ESE',\n",
    "       'WindDir3pm_N', 'WindDir3pm_NE', 'WindDir3pm_NNE', 'WindDir3pm_NNW',\n",
    "       'WindDir3pm_NW', 'WindDir3pm_S', 'WindDir3pm_SE', 'WindDir3pm_SSE',\n",
    "       'WindDir3pm_SSW', 'WindDir3pm_SW', 'WindDir3pm_W', 'WindDir3pm_WNW',\n",
    "       'WindDir3pm_WSW', 'MinTemp', 'MaxTemp', 'Rainfall', 'Evaporation',\n",
    "       'Sunshine', 'WindGustSpeed', 'WindSpeed9am', 'WindSpeed3pm',\n",
    "       'Humidity9am', 'Humidity3pm', 'Pressure9am', 'Pressure3pm', 'Cloud9am',\n",
    "       'Cloud3pm', 'Temp9am', 'Temp3pm']\n",
    "\n",
    "lc = {}\n",
    "for a in attrs:\n",
    "    lc[a] = ws[a].corr(ws.iloc[:,13])\n",
    "\n",
    "imp = {}\n",
    "for k,v in lc.items():\n",
    "    if abs(v)>0.3:\n",
    "        imp[k] = v\n",
    "        \n",
    "imp\n",
    "\n",
    "# Observem que els atributs més importants són el 'Sunshine' i el 'Humidity3pm'. \n",
    "# Així que són els que utilitzarem per a visualitzar principalment la base de dades d'una manera senzilla"
   ]
  },
  {
   "cell_type": "code",
   "execution_count": 5,
   "id": "4efe28c1",
   "metadata": {},
   "outputs": [
    {
     "data": {
      "image/png": "[encoded data removed]",
      "text/plain": [
       "<Figure size 720x288 with 2 Axes>"
      ]
     },
     "metadata": {},
     "output_type": "display_data"
    }
   ],
   "source": [
    "# histogrames per a la visualitzacio d'attrs\n",
    "\n",
    "sns.set(style=\"darkgrid\")\n",
    "fig, axs = plt.subplots(1, 2, figsize=(10, 4))\n",
    "plt.subplots_adjust(top=0.85)\n",
    "sl=sns.histplot(data=ws, x=\"Sunshine\", color=\"#0000e9\", ax=axs[0])\n",
    "sw=sns.histplot(data=ws, x=\"Humidity3pm\", color=\"#b80000\", ax=axs[1])\n",
    "\n",
    "#plt.savefig(\"hist_attGauss_A.png\", dpi = 300, bbox_inches = 'tight')"
   ]
  },
  {
   "cell_type": "code",
   "execution_count": 6,
   "id": "8832d991",
   "metadata": {},
   "outputs": [
    {
     "data": {
      "text/plain": [
       "Text(0, 0.5, 'Count')"
      ]
     },
     "execution_count": 6,
     "metadata": {},
     "output_type": "execute_result"
    },
    {
     "data": {
      "image/png": "[encoded data removed]",
      "text/plain": [
       "<Figure size 432x288 with 1 Axes>"
      ]
     },
     "metadata": {},
     "output_type": "display_data"
    }
   ],
   "source": [
    "# historgrama del RainToday\n",
    "\n",
    "p=sns.histplot(data=ws, x=\"RainToday\", kde=False, color=\"black\")\n",
    "\n",
    "fig.suptitle(\"Players count of games with a certain game score\",\n",
    "             fontsize = 'x-large', fontweight = 'bold' )\n",
    "p.set_xlabel(\"Does Not Rain vs Rains\")\n",
    "p.set_ylabel(\"Count\")\n",
    "\n",
    "#plt.savefig(\"hist_target_A.png\", dpi = 300, bbox_inches = 'tight')"
   ]
  },
  {
   "cell_type": "code",
   "execution_count": 7,
   "id": "4fbb48e4",
   "metadata": {},
   "outputs": [
    {
     "name": "stdout",
     "output_type": "stream",
     "text": [
      "si: 12606 | no: 44427\n"
     ]
    }
   ],
   "source": [
    "si = w['RainTomorrow'].value_counts()[1]\n",
    "no = w['RainTomorrow'].value_counts()[0]\n",
    "print(\"si:\", si, \"| no:\", no)"
   ]
  },
  {
   "cell_type": "code",
   "execution_count": 8,
   "id": "88558370",
   "metadata": {},
   "outputs": [],
   "source": [
    "# inicialització de la base de dades\n",
    "\n",
    "y_ws = ws[\"RainTomorrow\"]\n",
    "ws.drop([\"RainTomorrow\"], axis=1, inplace=True)\n",
    "x_ws = ws"
   ]
  },
  {
   "cell_type": "code",
   "execution_count": 9,
   "id": "9d2ec2c0",
   "metadata": {},
   "outputs": [
    {
     "name": "stdout",
     "output_type": "stream",
     "text": [
      "Best PCA obtained with 47 components\n"
     ]
    }
   ],
   "source": [
    "# pca amb var ret 95 \n",
    "\n",
    "X_train_w, X_test_w, _ = split_df(x_ws, 0.5, 1)\n",
    "y_train_w, y_test_w, _ = split_df(y_ws, 0.5, 1) \n",
    "\n",
    "pca_best = PCA(0.95)\n",
    "x_train = pca_best.fit_transform(X_train_w)\n",
    "x_test = pca_best.transform(X_test_w)\n",
    "\n",
    "#informacio del millor pca\n",
    "print(f\"Best PCA obtained with {len(pca_best.singular_values_)} components\")"
   ]
  },
  {
   "cell_type": "code",
   "execution_count": 10,
   "id": "869c57fb",
   "metadata": {},
   "outputs": [
    {
     "name": "stdout",
     "output_type": "stream",
     "text": [
      "Best PCA obtained with 65 components\n"
     ]
    }
   ],
   "source": [
    "# pca amb var ret 99\n",
    "\n",
    "X_train_w, X_test_w, _ = split_df(x_ws, 0.5, 1)\n",
    "y_train_w, y_test_w, _ = split_df(y_ws, 0.5, 1) \n",
    "\n",
    "pca_best = PCA(0.99)\n",
    "x_train = pca_best.fit_transform(X_train_w)\n",
    "x_test = pca_best.transform(X_test_w)\n",
    "\n",
    "#informacio del millor pca\n",
    "print(f\"Best PCA obtained with {len(pca_best.singular_values_)} components\")"
   ]
  },
  {
   "cell_type": "code",
   "execution_count": 11,
   "id": "11ccd985",
   "metadata": {},
   "outputs": [
    {
     "name": "stdout",
     "output_type": "stream",
     "text": [
      "Best PCA obtained with 77 components\n"
     ]
    }
   ],
   "source": [
    "# pca sense var ret\n",
    "\n",
    "X_train_w, X_test_w, _ = split_df(x_ws, 0.5, 1)\n",
    "y_train_w, y_test_w, _ = split_df(y_ws, 0.5, 1) \n",
    "\n",
    "pca_best = PCA()\n",
    "x_train = pca_best.fit_transform(X_train_w)\n",
    "x_test = pca_best.transform(X_test_w)\n",
    "\n",
    "#informacio del millor pca\n",
    "print(f\"Best PCA obtained with {len(pca_best.singular_values_)} components\")"
   ]
  },
  {
   "cell_type": "markdown",
   "id": "9636e3a0",
   "metadata": {},
   "source": [
    "### 3. Model Selection i 5. Metric Analysis"
   ]
  },
  {
   "cell_type": "code",
   "execution_count": 12,
   "id": "ee1ecf82",
   "metadata": {},
   "outputs": [],
   "source": [
    "# funcio del fit del regressor logistic\n",
    "def fit_lr(X, y, part=0.6):\n",
    "    x_t, x_v, y_t, y_v = train_test_split(X, y, train_size=part)\n",
    "    logireg = LogisticRegression(C=2.0, fit_intercept=True, penalty='l2', tol=0.001) \n",
    "    logireg.fit(x_t, y_t)\n",
    "    probs = logireg.predict_proba(x_v)\n",
    "    return logireg.score(x_v, y_v), probs, y_v\n",
    "\n",
    "# funcio del fit del svm\n",
    "def fit_svm(X, y, part = 0.6, k = 'linear', C = 10.0, g = 0.9):\n",
    "    x_t, x_v, y_t, y_v = train_test_split(X, y, train_size=part)\n",
    "    svc = svm.SVC(C=C, kernel=k, gamma=g, probability=True) # creem el regresor svm    \n",
    "    svc.fit(x_t, y_t) \n",
    "    probs = svc.predict_proba(x_v) # s usa en el precision recall curve\n",
    "    return svc.score(x_v, y_v), probs, y_v\n",
    "\n",
    "# funcio del decision tree\n",
    "def decision_tree_fit(X, y, part = 0.6):\n",
    "    x_t, x_v, y_t, y_v = train_test_split(X, y, train_size=part)\n",
    "    dt = tree.DecisionTreeClassifier()\n",
    "    dt.fit(x_t, y_t)\n",
    "    probs = dt.predict_proba(x_v)\n",
    "    y_pred=dt.predict(x_v)\n",
    "    return metrics.accuracy_score(y_v, y_pred), probs, y_v\n",
    "\n",
    "# funcio del random forest\n",
    "def fit_rf(i,X, y, part = 0.6):\n",
    "    \n",
    "    x_t, x_v, y_t, y_v = train_test_split(X, y, train_size=part)\n",
    "    \n",
    "    clf = RandomForestClassifier(n_estimators=i)\n",
    "    clf.fit(x_t,y_t)\n",
    "    probs = clf.predict_proba(x_v)\n",
    "    y_pred=clf.predict(x_v)\n",
    "    return metrics.accuracy_score(y_v, y_pred),probs,y_v\n",
    "\n",
    "# funcio del KNN\n",
    "def fit_KNN(X, y, part = 0.6, n =7):\n",
    "    \n",
    "    x_t, x_v, y_t, y_v = train_test_split(X, y, train_size=part)\n",
    "    \n",
    "    clf = neighbors.KNeighborsClassifier(n_neighbors=n)\n",
    "    clf.fit(x_t,y_t)\n",
    "    probs = clf.predict_proba(x_v)\n",
    "    y_pred=clf.predict(x_v)\n",
    "    return metrics.accuracy_score(y_v, y_pred), probs, y_v"
   ]
  },
  {
   "cell_type": "markdown",
   "id": "3bb7bc02",
   "metadata": {},
   "source": [
    "Proves sobre els diferents models"
   ]
  },
  {
   "cell_type": "code",
   "execution_count": 13,
   "id": "0285e29f",
   "metadata": {},
   "outputs": [
    {
     "name": "stdout",
     "output_type": "stream",
     "text": [
      "Wall time: 31.3 s\n"
     ]
    },
    {
     "data": {
      "text/plain": [
       "0.8441746296133953"
      ]
     },
     "execution_count": 13,
     "metadata": {},
     "output_type": "execute_result"
    }
   ],
   "source": [
    "# knn\n",
    "%time score, *_ = fit_KNN(x_ws, y_ws)\n",
    "score"
   ]
  },
  {
   "cell_type": "code",
   "execution_count": 14,
   "id": "dcf26c32",
   "metadata": {},
   "outputs": [
    {
     "name": "stdout",
     "output_type": "stream",
     "text": [
      "Wall time: 604 ms\n"
     ]
    },
    {
     "data": {
      "text/plain": [
       "0.8547821513105988"
      ]
     },
     "execution_count": 14,
     "metadata": {},
     "output_type": "execute_result"
    }
   ],
   "source": [
    "# regressor logistic\n",
    "%time score, *_ = fit_lr(x_ws, y_ws)\n",
    "score"
   ]
  },
  {
   "cell_type": "code",
   "execution_count": 15,
   "id": "8088f809",
   "metadata": {},
   "outputs": [
    {
     "name": "stdout",
     "output_type": "stream",
     "text": [
      "Wall time: 977 ms\n"
     ]
    },
    {
     "data": {
      "text/plain": [
       "0.8455334443762602"
      ]
     },
     "execution_count": 15,
     "metadata": {},
     "output_type": "execute_result"
    }
   ],
   "source": [
    "# random forest 100 arbres\n",
    "%time score, *_ = fit_rf(10, x_ws, y_ws)\n",
    "score"
   ]
  },
  {
   "cell_type": "code",
   "execution_count": 16,
   "id": "c98556f6",
   "metadata": {},
   "outputs": [
    {
     "name": "stdout",
     "output_type": "stream",
     "text": [
      "Wall time: 859 ms\n"
     ]
    },
    {
     "data": {
      "text/plain": [
       "0.7939861488559656"
      ]
     },
     "execution_count": 16,
     "metadata": {},
     "output_type": "execute_result"
    }
   ],
   "source": [
    "#arbre desicio\n",
    "%time score, *_ = decision_tree_fit(x_ws, y_ws)\n",
    "score"
   ]
  },
  {
   "cell_type": "code",
   "execution_count": 17,
   "id": "815e781a",
   "metadata": {},
   "outputs": [],
   "source": [
    "# proves sobre el svm utilitzant només les 10000 primeres dades sobre els atributs ['Sunshine','Humidity3pm'] \n",
    "# ja que son els que tenen més importancia\n",
    "A = np.array(ws.loc[:,['Sunshine','Humidity3pm']])[:10000,:]\n",
    "y_a = np.array(y_ws)[:10000]"
   ]
  },
  {
   "cell_type": "code",
   "execution_count": 18,
   "id": "261103ed",
   "metadata": {},
   "outputs": [
    {
     "name": "stdout",
     "output_type": "stream",
     "text": [
      "Wall time: 5.45 s\n"
     ]
    },
    {
     "data": {
      "text/plain": [
       "0.82275"
      ]
     },
     "execution_count": 18,
     "metadata": {},
     "output_type": "execute_result"
    }
   ],
   "source": [
    "# svm lineal \n",
    "%time score, *_ = fit_svm(A, y_a) #0.8290085035504515\n",
    "score"
   ]
  },
  {
   "cell_type": "code",
   "execution_count": 19,
   "id": "9d2a6148",
   "metadata": {},
   "outputs": [
    {
     "name": "stdout",
     "output_type": "stream",
     "text": [
      "Wall time: 3min 9s\n"
     ]
    },
    {
     "data": {
      "text/plain": [
       "0.8285263434733059"
      ]
     },
     "execution_count": 19,
     "metadata": {},
     "output_type": "execute_result"
    }
   ],
   "source": [
    "# svm amb totes les dades dels dos atributs més importants\n",
    "# 0.8290085035504515  lineal\n",
    "\n",
    "%time score, *_ = fit_svm(ws.loc[:,['Sunshine','Humidity3pm', 'Cloud3pm']], y_ws, part = 0.6) \n",
    "score"
   ]
  },
  {
   "cell_type": "code",
   "execution_count": 20,
   "id": "7428dc3f",
   "metadata": {},
   "outputs": [
    {
     "data": {
      "text/plain": [
       "0.8442622950819673"
      ]
     },
     "execution_count": 20,
     "metadata": {},
     "output_type": "execute_result"
    }
   ],
   "source": [
    "# bagging knn\n",
    "\n",
    "x_t, x_v, y_t, y_v = train_test_split(x_ws, y_ws, train_size=0.6)\n",
    "clf = BaggingClassifier(base_estimator=KNeighborsClassifier(), n_estimators=10, random_state=0).fit(x_t, y_t)\n",
    "\n",
    "clf.score(x_v, y_v)"
   ]
  },
  {
   "cell_type": "code",
   "execution_count": 21,
   "id": "82276933",
   "metadata": {},
   "outputs": [
    {
     "data": {
      "text/plain": [
       "'# boosting adaptive (adaboost) 1000\\n\\nb = time.time()\\nclf = AdaBoostClassifier(n_estimators=1000)\\nscores = cross_val_score(clf, x_ws, y_ws, cv=5)\\ne = time.time()\\n\\nprint(\"acc\", scores.mean(),\"temps: \", e-b)'"
      ]
     },
     "execution_count": 21,
     "metadata": {},
     "output_type": "execute_result"
    }
   ],
   "source": [
    "'''# boosting adaptive (adaboost) 1000\n",
    "\n",
    "b = time.time()\n",
    "clf = AdaBoostClassifier(n_estimators=1000)\n",
    "scores = cross_val_score(clf, x_ws, y_ws, cv=5)\n",
    "e = time.time()\n",
    "\n",
    "print(\"acc\", scores.mean(),\"temps: \", e-b)'''"
   ]
  },
  {
   "cell_type": "code",
   "execution_count": 23,
   "id": "c8a72ad3",
   "metadata": {},
   "outputs": [
    {
     "data": {
      "text/plain": [
       "'# boosting adaptive (adaboost) 5000\\n\\nb = time.time()\\nclf = AdaBoostClassifier(n_estimators=5000)\\nscores = cross_val_score(clf, x_ws, y_ws, cv=5)\\ne = time.time()\\n\\nprint(\"acc\", scores.mean(),\"temps: \", e-b)'"
      ]
     },
     "execution_count": 23,
     "metadata": {},
     "output_type": "execute_result"
    }
   ],
   "source": [
    "'''# boosting adaptive (adaboost) 5000\n",
    "\n",
    "b = time.time()\n",
    "clf = AdaBoostClassifier(n_estimators=5000)\n",
    "scores = cross_val_score(clf, x_ws, y_ws, cv=5)\n",
    "e = time.time()\n",
    "\n",
    "print(\"acc\", scores.mean(),\"temps: \", e-b)'''"
   ]
  },
  {
   "cell_type": "code",
   "execution_count": 24,
   "id": "d6245722",
   "metadata": {},
   "outputs": [],
   "source": [
    "# matriu de precisions dels diferents models\n",
    "samples, models = 10, 5\n",
    "acc_r = np.zeros((samples, models))\n",
    "\n",
    "for i in range(samples):\n",
    "    idxs = np.random.choice(ws.shape[0], int(ws.shape[0]/10), replace=False)\n",
    "    acc_r[i][0], *_ = fit_KNN(np.array(x_ws)[idxs, :], np.array(y_ws)[idxs])\n",
    "    acc_r[i][1], *_ = fit_rf(15, x_ws, y_ws)\n",
    "    acc_r[i][2], *_ = decision_tree_fit(x_ws, y_ws)\n",
    "    idxs = np.random.choice(ws.shape[0], int(ws.shape[0]/10), replace=False)\n",
    "    acc_r[i][3], *_ = fit_svm(np.array(ws.loc[:, ['Sunshine', 'Humidity3pm']])[idxs, :], np.array(y_ws)[idxs]) #0.8290085035504515\n",
    "    acc_r[i][4], *_ = fit_lr(x_ws, y_ws)"
   ]
  },
  {
   "cell_type": "code",
   "execution_count": 25,
   "id": "6aa021ab",
   "metadata": {},
   "outputs": [
    {
     "data": {
      "image/png": "[encoded data removed]",
      "text/plain": [
       "<Figure size 432x288 with 1 Axes>"
      ]
     },
     "metadata": {},
     "output_type": "display_data"
    }
   ],
   "source": [
    "# accuracy boxplot\n",
    "plt.boxplot(acc_r)   \n",
    "ax = plt.gca()\n",
    "ax.set_xticklabels(['7-NN', 'RF', 'DT', 'SVM', 'LR'])\n",
    "plt.ylabel('Accuracy')\n",
    "plt.savefig(\"boxplot_10iters\", dpi=300, bbox_inches='tight')\n",
    "plt.show()"
   ]
  },
  {
   "cell_type": "markdown",
   "id": "4050207c-6486-4eba-86fb-f2b7ad1cbe2b",
   "metadata": {
    "tags": []
   },
   "source": [
    "### CROSSVAL"
   ]
  },
  {
   "cell_type": "code",
   "execution_count": 26,
   "id": "acdfb005-cdd1-40a6-a70f-0ab133acd35f",
   "metadata": {},
   "outputs": [
    {
     "data": {
      "text/plain": [
       "array([0.84782609, 0.8378331 , 0.84730014, 0.84131159, 0.84113624,\n",
       "       0.82517973, 0.83780466, 0.87795897, 0.83657724, 0.87532877])"
      ]
     },
     "execution_count": 26,
     "metadata": {},
     "output_type": "execute_result"
    }
   ],
   "source": [
    "model = LogisticRegression(C=2, fit_intercept=True, penalty='l2', tol=0.001) \n",
    "scores_lr = cross_val_score(model, x_ws, y_ws, cv=10)\n",
    "scores_lr"
   ]
  },
  {
   "cell_type": "code",
   "execution_count": 27,
   "id": "57931eff-d82c-4143-afe9-049338c1bfd6",
   "metadata": {
    "tags": []
   },
   "outputs": [
    {
     "data": {
      "text/plain": [
       "array([0.84063047, 0.83887916, 0.83362522, 0.84035088, 0.84736842,\n",
       "       0.82631579, 0.84561404, 0.84035088, 0.83157895, 0.87017544])"
      ]
     },
     "execution_count": 27,
     "metadata": {},
     "output_type": "execute_result"
    }
   ],
   "source": [
    "model = svm.SVC(kernel='linear', C=10, random_state=42)\n",
    "idxs = np.random.choice(ws.shape[0], int(ws.shape[0]/10), replace=False)\n",
    "scores_svc = cross_val_score(model, np.array(x_ws)[idxs,], np.array(y_ws)[idxs], cv=10)\n",
    "scores_svc"
   ]
  },
  {
   "cell_type": "code",
   "execution_count": 28,
   "id": "7ff1f416-deb8-4be9-ad0c-8315d4850bb8",
   "metadata": {
    "tags": []
   },
   "outputs": [
    {
     "data": {
      "text/plain": [
       "array([0.78295933, 0.76262272, 0.76788219, 0.77853761, 0.77958969,\n",
       "       0.74750132, 0.76503595, 0.82728389, 0.78204454, 0.78327196])"
      ]
     },
     "execution_count": 28,
     "metadata": {},
     "output_type": "execute_result"
    }
   ],
   "source": [
    "model = tree.DecisionTreeClassifier()\n",
    "scores_dt = cross_val_score(model, x_ws, y_ws, cv=10)\n",
    "scores_dt"
   ]
  },
  {
   "cell_type": "code",
   "execution_count": 29,
   "id": "85d8a9d9-094d-48bf-b998-629f3221e319",
   "metadata": {},
   "outputs": [
    {
     "data": {
      "text/plain": [
       "array([0.84414446, 0.84431978, 0.84028752, 0.84955287, 0.85253375,\n",
       "       0.81378222, 0.8292127 , 0.88392074, 0.82903735, 0.86638611])"
      ]
     },
     "execution_count": 29,
     "metadata": {},
     "output_type": "execute_result"
    }
   ],
   "source": [
    "model = RandomForestClassifier(n_estimators=45)\n",
    "scores_rf = cross_val_score(model, x_ws, y_ws, cv=10)\n",
    "scores_rf"
   ]
  },
  {
   "cell_type": "code",
   "execution_count": 30,
   "id": "7e6f5cb3-df67-4a5d-8d49-d049a7008afd",
   "metadata": {},
   "outputs": [
    {
     "data": {
      "text/plain": [
       "array([0.82941795, 0.8164446 , 0.8266129 , 0.82500438, 0.8409609 ,\n",
       "       0.74907943, 0.79992986, 0.86182711, 0.81763984, 0.85902157])"
      ]
     },
     "execution_count": 30,
     "metadata": {},
     "output_type": "execute_result"
    }
   ],
   "source": [
    "model = neighbors.KNeighborsClassifier(n_neighbors=7)\n",
    "scores_knn = cross_val_score(model, x_ws, y_ws, cv=10)\n",
    "scores_knn"
   ]
  },
  {
   "cell_type": "code",
   "execution_count": 31,
   "id": "ac1f892c-63e8-419d-90e5-51ee2d9610fc",
   "metadata": {},
   "outputs": [
    {
     "data": {
      "image/png": "[encoded data removed]",
      "text/plain": [
       "<Figure size 432x288 with 1 Axes>"
      ]
     },
     "metadata": {},
     "output_type": "display_data"
    }
   ],
   "source": [
    "plt.boxplot([scores_knn, scores_rf, scores_dt, scores_svc, scores_lr])   \n",
    "ax = plt.gca()\n",
    "ax.set_xticklabels(['7-NN', 'RF', 'DT', 'SVM', 'LR'])\n",
    "plt.ylabel('Accuracy')\n",
    "plt.savefig(\"boxplot_cv.png\", dpi=300, bbox_inches='tight')\n",
    "plt.show()"
   ]
  },
  {
   "cell_type": "markdown",
   "id": "85dd3cf1-2a06-4de0-93f7-fb5950ec0a83",
   "metadata": {},
   "source": [
    "### HYPERPARAMETER SEARCH"
   ]
  },
  {
   "cell_type": "code",
   "execution_count": 32,
   "id": "8035d63e-3f19-4d50-8ed4-5a8fdfad16af",
   "metadata": {},
   "outputs": [
    {
     "name": "stdout",
     "output_type": "stream",
     "text": [
      "# Tuning hyper-parameters for precision\n",
      "\n",
      "Best parameters set found on development set:\n",
      "\n",
      "{'C': 3.455107294592218e-05}\n",
      "\n",
      "Detailed classification report:\n",
      "\n",
      "The model is trained on the full development set.\n",
      "The scores are computed on the full evaluation set.\n",
      "\n",
      "              precision    recall  f1-score   support\n",
      "\n",
      "           0       0.78      1.00      0.88     22165\n",
      "           1       0.94      0.02      0.04      6352\n",
      "\n",
      "    accuracy                           0.78     28517\n",
      "   macro avg       0.86      0.51      0.46     28517\n",
      "weighted avg       0.82      0.78      0.69     28517\n",
      "\n",
      "# Tuning hyper-parameters for recall\n",
      "\n",
      "Best parameters set found on development set:\n",
      "\n",
      "{'C': 7.017038286703837}\n",
      "\n",
      "Detailed classification report:\n",
      "\n",
      "The model is trained on the full development set.\n",
      "The scores are computed on the full evaluation set.\n",
      "\n",
      "              precision    recall  f1-score   support\n",
      "\n",
      "           0       0.88      0.94      0.91     22165\n",
      "           1       0.73      0.53      0.62      6352\n",
      "\n",
      "    accuracy                           0.85     28517\n",
      "   macro avg       0.80      0.74      0.76     28517\n",
      "weighted avg       0.84      0.85      0.84     28517\n",
      "\n"
     ]
    }
   ],
   "source": [
    "X_train, X_test, y_train, y_test = train_test_split(x_ws, y_ws, test_size=0.5)\n",
    "\n",
    "# Set the parameters by cross-validation\n",
    "cs = np.logspace(-7, 2, 40)\n",
    "tuned_parameters = [{\"C\": cs}]\n",
    "scores = [\"precision\", \"recall\"]\n",
    "meanss = []\n",
    "\n",
    "for score in scores:\n",
    "    print(\"# Tuning hyper-parameters for %s\\n\" % score)\n",
    "\n",
    "    clf = GridSearchCV(LogisticRegression(), tuned_parameters, scoring=\"%s_macro\" % score)\n",
    "    clf.fit(X_train, y_train)\n",
    "\n",
    "    print(\"Best parameters set found on development set:\\n\")\n",
    "    print(clf.best_params_)\n",
    "\n",
    "    means = clf.cv_results_[\"mean_test_score\"]\n",
    "    meanss.append(means)\n",
    "    stds = clf.cv_results_[\"std_test_score\"]\n",
    "\n",
    "    print(\"\\nDetailed classification report:\\n\")\n",
    "    print(\"The model is trained on the full development set.\")\n",
    "    print(\"The scores are computed on the full evaluation set.\\n\")\n",
    "\n",
    "    y_true, y_pred = y_test, clf.predict(X_test)\n",
    "    print(classification_report(y_true, y_pred))"
   ]
  },
  {
   "cell_type": "code",
   "execution_count": 33,
   "id": "34f82fad-a46a-416e-b171-0592ab9061f0",
   "metadata": {},
   "outputs": [
    {
     "data": {
      "image/png": "[encoded data removed]",
      "text/plain": [
       "<Figure size 432x288 with 1 Axes>"
      ]
     },
     "metadata": {},
     "output_type": "display_data"
    }
   ],
   "source": [
    "fig = plt.figure()\n",
    "\n",
    "plt.suptitle(\"LogisticRegression\", fontsize = 'x-large', fontweight = 'bold')\n",
    "plt.plot(cs, meanss[0], \"o-\", label=\"score for precission\", color=\"#0000e9\")\n",
    "plt.plot(cs, meanss[1], \"o-\", label=\"score for recall\", color=\"#b80000\")\n",
    "plt.xscale(\"log\")\n",
    "plt.axis('tight')\n",
    "plt.xlabel('Value of C')\n",
    "plt.axvline(x=clf.best_params_['C'], color='#800000', label='best C')\n",
    "\n",
    "plt.legend()\n",
    "plt.savefig(\"hyper_lr.png\", dpi = 300, bbox_inches = 'tight') \n",
    "plt.show()"
   ]
  },
  {
   "cell_type": "code",
   "execution_count": 34,
   "id": "a8c3a3ee-d99c-4170-970f-561e78f13ed0",
   "metadata": {},
   "outputs": [
    {
     "name": "stdout",
     "output_type": "stream",
     "text": [
      "# Tuning hyper-parameters for precision\n",
      "\n",
      "Best parameters set found on development set:\n",
      "\n",
      "{'C': 0.008668242140342019}\n",
      "\n",
      "Detailed classification report:\n",
      "\n",
      "The model is trained on the full development set.\n",
      "The scores are computed on the full evaluation set.\n",
      "\n",
      "              precision    recall  f1-score   support\n",
      "\n",
      "           0       0.84      0.98      0.90      2228\n",
      "           1       0.83      0.31      0.45       624\n",
      "\n",
      "    accuracy                           0.84      2852\n",
      "   macro avg       0.83      0.65      0.68      2852\n",
      "weighted avg       0.83      0.84      0.80      2852\n",
      "\n",
      "# Tuning hyper-parameters for recall\n",
      "\n",
      "Best parameters set found on development set:\n",
      "\n",
      "{'C': 0.4592709387993501}\n",
      "\n",
      "Detailed classification report:\n",
      "\n",
      "The model is trained on the full development set.\n",
      "The scores are computed on the full evaluation set.\n",
      "\n",
      "              precision    recall  f1-score   support\n",
      "\n",
      "           0       0.85      0.97      0.91      2228\n",
      "           1       0.77      0.40      0.53       624\n",
      "\n",
      "    accuracy                           0.84      2852\n",
      "   macro avg       0.81      0.68      0.72      2852\n",
      "weighted avg       0.83      0.84      0.82      2852\n",
      "\n"
     ]
    }
   ],
   "source": [
    "idxs = np.random.choice(ws.shape[0], int(ws.shape[0]/10), replace=False)\n",
    "X_train, X_test, y_train, y_test = train_test_split(np.array(ws.loc[:, ['Sunshine', 'Humidity3pm']])[idxs, :], np.array(y_ws)[idxs], test_size=0.5)\n",
    "\n",
    "# Set the parameters by cross-validation\n",
    "cs = np.logspace(-2.2, -0.2, 30)\n",
    "tuned_parameters = [{\"C\": cs}]\n",
    "scores = [\"precision\", \"recall\"]\n",
    "meanss = []\n",
    "\n",
    "for score in scores:\n",
    "    print(\"# Tuning hyper-parameters for %s\\n\" % score)\n",
    "\n",
    "    clf = GridSearchCV(svm.SVC(), tuned_parameters, scoring=\"%s_macro\" % score)\n",
    "    clf.fit(X_train, y_train)\n",
    "\n",
    "    print(\"Best parameters set found on development set:\\n\")\n",
    "    print(clf.best_params_)\n",
    "\n",
    "    means = clf.cv_results_[\"mean_test_score\"]\n",
    "    meanss.append(means)\n",
    "    stds = clf.cv_results_[\"std_test_score\"]\n",
    "\n",
    "    print(\"\\nDetailed classification report:\\n\")\n",
    "    print(\"The model is trained on the full development set.\")\n",
    "    print(\"The scores are computed on the full evaluation set.\\n\")\n",
    "\n",
    "    y_true, y_pred = y_test, clf.predict(X_test)\n",
    "    print(classification_report(y_true, y_pred))"
   ]
  },
  {
   "cell_type": "code",
   "execution_count": 35,
   "id": "04e21f00-c992-4dc4-90fd-613780515303",
   "metadata": {},
   "outputs": [
    {
     "data": {
      "image/png": "[encoded data removed]",
      "text/plain": [
       "<Figure size 432x288 with 1 Axes>"
      ]
     },
     "metadata": {},
     "output_type": "display_data"
    }
   ],
   "source": [
    "fig = plt.figure()\n",
    "\n",
    "plt.suptitle(\"SVM\", fontsize = 'x-large', fontweight = 'bold')\n",
    "plt.plot(cs, meanss[0], \"o-\", label=\"score for precission\", color=\"#0000e9\")\n",
    "plt.plot(cs, meanss[1], \"o-\", label=\"score for recall\", color=\"#b80000\")\n",
    "plt.xscale(\"log\")\n",
    "plt.axis('tight')\n",
    "plt.xlabel('Value of C')\n",
    "plt.axvline(x=clf.best_params_['C'], color='#800000', label='best C')\n",
    "\n",
    "plt.legend()\n",
    "plt.savefig(\"hyper_svm.png\", dpi = 300, bbox_inches = 'tight') \n",
    "plt.show()"
   ]
  },
  {
   "cell_type": "code",
   "execution_count": null,
   "id": "e399f82f-4d2c-4fb6-b359-67be32c89eba",
   "metadata": {},
   "outputs": [],
   "source": []
  }
 ],
 "metadata": {
  "kernelspec": {
   "display_name": "Python 3 (ipykernel)",
   "language": "python",
   "name": "python3"
  },
  "language_info": {
   "codemirror_mode": {
    "name": "ipython",
    "version": 3
   },
   "file_extension": ".py",
   "mimetype": "text/x-python",
   "name": "python",
   "nbconvert_exporter": "python",
   "pygments_lexer": "ipython3",
   "version": "3.7.7"
  }
 },
 "nbformat": 4,
 "nbformat_minor": 5
}
